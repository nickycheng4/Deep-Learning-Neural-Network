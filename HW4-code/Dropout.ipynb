{
 "cells": [
  {
   "cell_type": "markdown",
   "metadata": {},
   "source": [
    "# Dropout\n",
    "\n",
    "In this notebook, you will implement dropout.  Then we will ask you to train a network with batchnorm and dropout, and acheive over 55% accuracy on CIFAR-10.\n",
    "\n",
    "CS231n has built a solid API for building these modular frameworks and training them, and we will use their very well implemented framework as opposed to \"reinventing the wheel.\"  This includes using their Solver, various utility functions, and their layer structure.  This also includes nndl.fc_net, nndl.layers, and nndl.layer_utils.  As in prior assignments, we thank Serena Yeung & Justin Johnson for permission to use code written for the CS 231n class (cs231n.stanford.edu).  "
   ]
  },
  {
   "cell_type": "code",
   "execution_count": 8,
   "metadata": {},
   "outputs": [
    {
     "name": "stdout",
     "output_type": "stream",
     "text": [
      "The autoreload extension is already loaded. To reload it, use:\n",
      "  %reload_ext autoreload\n"
     ]
    }
   ],
   "source": [
    "## Import and setups\n",
    "\n",
    "import time\n",
    "import numpy as np\n",
    "import matplotlib.pyplot as plt\n",
    "from nndl.fc_net import *\n",
    "from nndl.layers import *\n",
    "from cs231n.data_utils import get_CIFAR10_data\n",
    "from cs231n.gradient_check import eval_numerical_gradient, eval_numerical_gradient_array\n",
    "from cs231n.solver import Solver\n",
    "\n",
    "%matplotlib inline\n",
    "plt.rcParams['figure.figsize'] = (10.0, 8.0) # set default size of plots\n",
    "plt.rcParams['image.interpolation'] = 'nearest'\n",
    "plt.rcParams['image.cmap'] = 'gray'\n",
    "\n",
    "# for auto-reloading external modules\n",
    "# see http://stackoverflow.com/questions/1907993/autoreload-of-modules-in-ipython\n",
    "%load_ext autoreload\n",
    "%autoreload 2\n",
    "\n",
    "def rel_error(x, y):\n",
    "    \"\"\" returns relative error \"\"\"\n",
    "    return np.max(np.abs(x - y) / (np.maximum(1e-8, np.abs(x) + np.abs(y))))"
   ]
  },
  {
   "cell_type": "code",
   "execution_count": 9,
   "metadata": {},
   "outputs": [
    {
     "name": "stdout",
     "output_type": "stream",
     "text": [
      "X_train: (49000, 3, 32, 32) \n",
      "y_train: (49000,) \n",
      "X_val: (1000, 3, 32, 32) \n",
      "y_val: (1000,) \n",
      "X_test: (1000, 3, 32, 32) \n",
      "y_test: (1000,) \n"
     ]
    }
   ],
   "source": [
    "# Load the (preprocessed) CIFAR10 data.\n",
    "\n",
    "data = get_CIFAR10_data()\n",
    "for k in data.keys():\n",
    "    print('{}: {} '.format(k, data[k].shape))"
   ]
  },
  {
   "cell_type": "markdown",
   "metadata": {},
   "source": [
    "## Dropout forward pass\n",
    "\n",
    "Implement the training and test time dropout forward pass, `dropout_forward`, in `nndl/layers.py`. After that, test your implementation by running the following cell."
   ]
  },
  {
   "cell_type": "code",
   "execution_count": 10,
   "metadata": {},
   "outputs": [
    {
     "name": "stdout",
     "output_type": "stream",
     "text": [
      "Running tests with p =  0.3\n",
      "Mean of input:  10.00058445711242\n",
      "Mean of train-time output:  10.031705881258645\n",
      "Mean of test-time output:  10.00058445711242\n",
      "Fraction of train-time output set to zero:  0.699024\n",
      "Fraction of test-time output set to zero:  0.0\n",
      "Running tests with p =  0.6\n",
      "Mean of input:  10.00058445711242\n",
      "Mean of train-time output:  10.00647618704656\n",
      "Mean of test-time output:  10.00058445711242\n",
      "Fraction of train-time output set to zero:  0.399836\n",
      "Fraction of test-time output set to zero:  0.0\n",
      "Running tests with p =  0.75\n",
      "Mean of input:  10.00058445711242\n",
      "Mean of train-time output:  10.006461827026936\n",
      "Mean of test-time output:  10.00058445711242\n",
      "Fraction of train-time output set to zero:  0.249636\n",
      "Fraction of test-time output set to zero:  0.0\n"
     ]
    }
   ],
   "source": [
    "x = np.random.randn(500, 500) + 10\n",
    "\n",
    "for p in [0.3, 0.6, 0.75]:\n",
    "    out, _ = dropout_forward(x, {'mode': 'train', 'p': p})\n",
    "    out_test, _ = dropout_forward(x, {'mode': 'test', 'p': p})\n",
    "\n",
    "    print('Running tests with p = ', p)\n",
    "    print('Mean of input: ', x.mean())\n",
    "    print('Mean of train-time output: ', out.mean())\n",
    "    print('Mean of test-time output: ', out_test.mean())\n",
    "    print('Fraction of train-time output set to zero: ', (out == 0).mean())\n",
    "    print('Fraction of test-time output set to zero: ', (out_test == 0).mean())"
   ]
  },
  {
   "cell_type": "markdown",
   "metadata": {},
   "source": [
    "## Dropout backward pass\n",
    "\n",
    "Implement the backward pass, `dropout_backward`, in `nndl/layers.py`.  After that, test your gradients by running the following cell:"
   ]
  },
  {
   "cell_type": "code",
   "execution_count": 11,
   "metadata": {},
   "outputs": [
    {
     "name": "stdout",
     "output_type": "stream",
     "text": [
      "dx relative error:  5.445612607462603e-11\n"
     ]
    }
   ],
   "source": [
    "x = np.random.randn(10, 10) + 10\n",
    "dout = np.random.randn(*x.shape)\n",
    "\n",
    "dropout_param = {'mode': 'train', 'p': 0.8, 'seed': 123}\n",
    "out, cache = dropout_forward(x, dropout_param)\n",
    "dx = dropout_backward(dout, cache)\n",
    "dx_num = eval_numerical_gradient_array(lambda xx: dropout_forward(xx, dropout_param)[0], x, dout)\n",
    "\n",
    "print('dx relative error: ', rel_error(dx, dx_num))"
   ]
  },
  {
   "cell_type": "markdown",
   "metadata": {},
   "source": [
    "## Implement a fully connected neural network with dropout layers\n",
    "\n",
    "Modify the `FullyConnectedNet()` class in `nndl/fc_net.py` to incorporate dropout.  A dropout layer should be incorporated after every ReLU layer.  Concretely, there shouldn't be a dropout at the output layer since there is no ReLU at the output layer. You will need to modify the class in the following areas:\n",
    "\n",
    "(1) In the forward pass, you will need to incorporate a dropout layer after every relu layer.\n",
    "\n",
    "(2) In the backward pass, you will need to incorporate a dropout backward pass layer.\n",
    "\n",
    "Check your implementation by running the following code.  Our W1 gradient relative error is on the order of 1e-6 (the largest of all the relative errors)."
   ]
  },
  {
   "cell_type": "code",
   "execution_count": 12,
   "metadata": {},
   "outputs": [
    {
     "name": "stdout",
     "output_type": "stream",
     "text": [
      "Running check with dropout =  0.5\n",
      "Initial loss:  2.309771209610118\n",
      "W1 relative error: 2.694274363733021e-07\n",
      "W2 relative error: 7.439246147919978e-08\n",
      "W3 relative error: 1.910371122296728e-08\n",
      "b1 relative error: 4.112891126518e-09\n",
      "b2 relative error: 5.756217724722137e-10\n",
      "b3 relative error: 1.3204470857080166e-10\n",
      "\n",
      "\n",
      "Running check with dropout =  0.75\n",
      "Initial loss:  2.306133548427975\n",
      "W1 relative error: 8.72986097970181e-08\n",
      "W2 relative error: 2.9777307885797295e-07\n",
      "W3 relative error: 1.8832780806174298e-08\n",
      "b1 relative error: 5.379486003985169e-08\n",
      "b2 relative error: 3.6529949080385546e-09\n",
      "b3 relative error: 9.987242764516995e-11\n",
      "\n",
      "\n",
      "Running check with dropout =  1.0\n",
      "Initial loss:  2.3053332250963194\n",
      "W1 relative error: 1.2744095365229032e-06\n",
      "W2 relative error: 4.678743300473988e-07\n",
      "W3 relative error: 4.331673892536035e-08\n",
      "b1 relative error: 4.0853539035931665e-08\n",
      "b2 relative error: 1.951342257912746e-09\n",
      "b3 relative error: 9.387142701440351e-11\n",
      "\n",
      "\n"
     ]
    }
   ],
   "source": [
    "N, D, H1, H2, C = 2, 15, 20, 30, 10\n",
    "X = np.random.randn(N, D)\n",
    "y = np.random.randint(C, size=(N,))\n",
    "\n",
    "for dropout in [0.5, 0.75, 1.0]:\n",
    "    print('Running check with dropout = ', dropout)\n",
    "    model = FullyConnectedNet([H1, H2], input_dim=D, num_classes=C,\n",
    "                              weight_scale=5e-2, dtype=np.float64,\n",
    "                              dropout=dropout, seed=123)\n",
    "\n",
    "    loss, grads = model.loss(X, y)\n",
    "    print('Initial loss: ', loss)\n",
    "\n",
    "    for name in sorted(grads):\n",
    "        f = lambda _: model.loss(X, y)[0]\n",
    "        grad_num = eval_numerical_gradient(f, model.params[name], verbose=False, h=1e-5)\n",
    "        print('{} relative error: {}'.format(name, rel_error(grad_num, grads[name])))\n",
    "    print('\\n')"
   ]
  },
  {
   "cell_type": "markdown",
   "metadata": {},
   "source": [
    "## Dropout as a regularizer\n",
    "\n",
    "In class, we claimed that dropout acts as a regularizer by effectively bagging.  To check this, we will train two small networks, one with dropout and one without dropout.  "
   ]
  },
  {
   "cell_type": "code",
   "execution_count": 13,
   "metadata": {},
   "outputs": [
    {
     "name": "stdout",
     "output_type": "stream",
     "text": [
      "(Iteration 1 / 125) loss: 2.296919\n",
      "(Epoch 0 / 25) train acc: 0.156000; val_acc: 0.129000\n",
      "(Epoch 1 / 25) train acc: 0.194000; val_acc: 0.137000\n",
      "(Epoch 2 / 25) train acc: 0.214000; val_acc: 0.161000\n",
      "(Epoch 3 / 25) train acc: 0.276000; val_acc: 0.206000\n",
      "(Epoch 4 / 25) train acc: 0.320000; val_acc: 0.249000\n",
      "(Epoch 5 / 25) train acc: 0.342000; val_acc: 0.276000\n",
      "(Epoch 6 / 25) train acc: 0.344000; val_acc: 0.270000\n",
      "(Epoch 7 / 25) train acc: 0.354000; val_acc: 0.281000\n",
      "(Epoch 8 / 25) train acc: 0.376000; val_acc: 0.280000\n",
      "(Epoch 9 / 25) train acc: 0.436000; val_acc: 0.295000\n",
      "(Epoch 10 / 25) train acc: 0.422000; val_acc: 0.308000\n",
      "(Epoch 11 / 25) train acc: 0.454000; val_acc: 0.302000\n",
      "(Epoch 12 / 25) train acc: 0.490000; val_acc: 0.307000\n",
      "(Epoch 13 / 25) train acc: 0.502000; val_acc: 0.312000\n",
      "(Epoch 14 / 25) train acc: 0.538000; val_acc: 0.306000\n",
      "(Epoch 15 / 25) train acc: 0.556000; val_acc: 0.322000\n",
      "(Epoch 16 / 25) train acc: 0.594000; val_acc: 0.315000\n",
      "(Epoch 17 / 25) train acc: 0.600000; val_acc: 0.304000\n",
      "(Epoch 18 / 25) train acc: 0.646000; val_acc: 0.321000\n",
      "(Epoch 19 / 25) train acc: 0.668000; val_acc: 0.344000\n",
      "(Epoch 20 / 25) train acc: 0.682000; val_acc: 0.337000\n",
      "(Iteration 101 / 125) loss: 1.253072\n",
      "(Epoch 21 / 25) train acc: 0.714000; val_acc: 0.310000\n",
      "(Epoch 22 / 25) train acc: 0.704000; val_acc: 0.342000\n",
      "(Epoch 23 / 25) train acc: 0.752000; val_acc: 0.325000\n",
      "(Epoch 24 / 25) train acc: 0.758000; val_acc: 0.312000\n",
      "(Epoch 25 / 25) train acc: 0.762000; val_acc: 0.335000\n",
      "(Iteration 1 / 125) loss: 2.301009\n",
      "(Epoch 0 / 25) train acc: 0.218000; val_acc: 0.145000\n",
      "(Epoch 1 / 25) train acc: 0.288000; val_acc: 0.221000\n",
      "(Epoch 2 / 25) train acc: 0.262000; val_acc: 0.197000\n",
      "(Epoch 3 / 25) train acc: 0.350000; val_acc: 0.269000\n",
      "(Epoch 4 / 25) train acc: 0.346000; val_acc: 0.253000\n",
      "(Epoch 5 / 25) train acc: 0.392000; val_acc: 0.253000\n",
      "(Epoch 6 / 25) train acc: 0.448000; val_acc: 0.300000\n",
      "(Epoch 7 / 25) train acc: 0.450000; val_acc: 0.305000\n",
      "(Epoch 8 / 25) train acc: 0.546000; val_acc: 0.314000\n",
      "(Epoch 9 / 25) train acc: 0.560000; val_acc: 0.316000\n",
      "(Epoch 10 / 25) train acc: 0.614000; val_acc: 0.324000\n",
      "(Epoch 11 / 25) train acc: 0.658000; val_acc: 0.306000\n",
      "(Epoch 12 / 25) train acc: 0.708000; val_acc: 0.313000\n",
      "(Epoch 13 / 25) train acc: 0.770000; val_acc: 0.312000\n",
      "(Epoch 14 / 25) train acc: 0.798000; val_acc: 0.315000\n",
      "(Epoch 15 / 25) train acc: 0.850000; val_acc: 0.301000\n",
      "(Epoch 16 / 25) train acc: 0.860000; val_acc: 0.336000\n",
      "(Epoch 17 / 25) train acc: 0.904000; val_acc: 0.295000\n",
      "(Epoch 18 / 25) train acc: 0.922000; val_acc: 0.301000\n",
      "(Epoch 19 / 25) train acc: 0.940000; val_acc: 0.308000\n",
      "(Epoch 20 / 25) train acc: 0.958000; val_acc: 0.287000\n",
      "(Iteration 101 / 125) loss: 0.149086\n",
      "(Epoch 21 / 25) train acc: 0.958000; val_acc: 0.292000\n",
      "(Epoch 22 / 25) train acc: 0.960000; val_acc: 0.284000\n",
      "(Epoch 23 / 25) train acc: 0.980000; val_acc: 0.300000\n",
      "(Epoch 24 / 25) train acc: 0.984000; val_acc: 0.281000\n",
      "(Epoch 25 / 25) train acc: 0.982000; val_acc: 0.283000\n"
     ]
    }
   ],
   "source": [
    "# Train two identical nets, one with dropout and one without\n",
    "\n",
    "num_train = 500\n",
    "small_data = {\n",
    "    'X_train': data['X_train'][:num_train],\n",
    "    'y_train': data['y_train'][:num_train],\n",
    "    'X_val': data['X_val'],\n",
    "    'y_val': data['y_val'],\n",
    "}\n",
    "\n",
    "solvers = {}\n",
    "dropout_choices = [0.6, 1.0]\n",
    "for dropout in dropout_choices:\n",
    "    model = FullyConnectedNet([100, 100, 100], dropout=dropout)\n",
    "\n",
    "    solver = Solver(model, small_data,\n",
    "                    num_epochs=25, batch_size=100,\n",
    "                    update_rule='adam',\n",
    "                    optim_config={\n",
    "                      'learning_rate': 5e-4,\n",
    "                    },\n",
    "                    verbose=True, print_every=100)\n",
    "    solver.train()\n",
    "    solvers[dropout] = solver"
   ]
  },
  {
   "cell_type": "code",
   "execution_count": 14,
   "metadata": {},
   "outputs": [
    {
     "data": {
      "image/png": "[encoded data removed]",
      "text/plain": [
       "<Figure size 1080x1080 with 2 Axes>"
      ]
     },
     "metadata": {
      "needs_background": "light"
     },
     "output_type": "display_data"
    }
   ],
   "source": [
    "# Plot train and validation accuracies of the two models\n",
    "\n",
    "train_accs = []\n",
    "val_accs = []\n",
    "for dropout in dropout_choices:\n",
    "    solver = solvers[dropout]\n",
    "    train_accs.append(solver.train_acc_history[-1])\n",
    "    val_accs.append(solver.val_acc_history[-1])\n",
    "\n",
    "plt.subplot(3, 1, 1)\n",
    "for dropout in dropout_choices:\n",
    "    plt.plot(solvers[dropout].train_acc_history, 'o', label='%.2f dropout' % dropout)\n",
    "plt.title('Train accuracy')\n",
    "plt.xlabel('Epoch')\n",
    "plt.ylabel('Accuracy')\n",
    "plt.legend(ncol=2, loc='lower right')\n",
    "  \n",
    "plt.subplot(3, 1, 2)\n",
    "for dropout in dropout_choices:\n",
    "    plt.plot(solvers[dropout].val_acc_history, 'o', label='%.2f dropout' % dropout)\n",
    "plt.title('Val accuracy')\n",
    "plt.xlabel('Epoch')\n",
    "plt.ylabel('Accuracy')\n",
    "plt.legend(ncol=2, loc='lower right')\n",
    "\n",
    "plt.gcf().set_size_inches(15, 15)\n",
    "plt.show()"
   ]
  },
  {
   "cell_type": "markdown",
   "metadata": {},
   "source": [
    "## Question\n",
    "\n",
    "Based off the results of this experiment, is dropout performing regularization?  Explain your answer."
   ]
  },
  {
   "cell_type": "markdown",
   "metadata": {},
   "source": [
    "## Answer:\n",
    "The dropout is performing regularization. We can see that for train accuracy, the 1.0 dropout has an accuracy substantially higher than that of the 0.6 dropout. However, the validation accuracy shows that these two methods achieve similar accuracy. This demonstrates that the 1.00 dropout model overfits the data and the 0.6 dropout regularizes the overfitting over training data."
   ]
  },
  {
   "cell_type": "markdown",
   "metadata": {},
   "source": [
    "##### Final part of the assignment\n",
    "\n",
    "Get over 55% validation accuracy on CIFAR-10 by using the layers you have implemented.  You will be graded according to the following equation:\n",
    "\n",
    "min(floor((X - 32%)) / 23%, 1) \n",
    "where if you get 55% or higher validation accuracy, you get full points."
   ]
  },
  {
   "cell_type": "code",
   "execution_count": 15,
   "metadata": {
    "scrolled": false
   },
   "outputs": [
    {
     "name": "stdout",
     "output_type": "stream",
     "text": [
      "(Iteration 1 / 30560) loss: 2.365744\n",
      "(Epoch 0 / 80) train acc: 0.147000; val_acc: 0.129000\n",
      "(Epoch 1 / 80) train acc: 0.422000; val_acc: 0.391000\n",
      "(Iteration 501 / 30560) loss: 1.712840\n",
      "(Epoch 2 / 80) train acc: 0.460000; val_acc: 0.460000\n",
      "(Iteration 1001 / 30560) loss: 1.665024\n",
      "(Epoch 3 / 80) train acc: 0.484000; val_acc: 0.486000\n",
      "(Iteration 1501 / 30560) loss: 1.801649\n",
      "(Epoch 4 / 80) train acc: 0.507000; val_acc: 0.497000\n",
      "(Epoch 5 / 80) train acc: 0.515000; val_acc: 0.496000\n",
      "(Iteration 2001 / 30560) loss: 1.534427\n",
      "(Epoch 6 / 80) train acc: 0.538000; val_acc: 0.500000\n",
      "(Iteration 2501 / 30560) loss: 1.601596\n",
      "(Epoch 7 / 80) train acc: 0.526000; val_acc: 0.520000\n",
      "(Iteration 3001 / 30560) loss: 1.495836\n",
      "(Epoch 8 / 80) train acc: 0.537000; val_acc: 0.524000\n",
      "(Epoch 9 / 80) train acc: 0.559000; val_acc: 0.528000\n",
      "(Iteration 3501 / 30560) loss: 1.496876\n",
      "(Epoch 10 / 80) train acc: 0.573000; val_acc: 0.517000\n",
      "(Iteration 4001 / 30560) loss: 1.302133\n",
      "(Epoch 11 / 80) train acc: 0.561000; val_acc: 0.533000\n",
      "(Iteration 4501 / 30560) loss: 1.650510\n",
      "(Epoch 12 / 80) train acc: 0.555000; val_acc: 0.546000\n",
      "(Epoch 13 / 80) train acc: 0.590000; val_acc: 0.554000\n",
      "(Iteration 5001 / 30560) loss: 1.383645\n",
      "(Epoch 14 / 80) train acc: 0.590000; val_acc: 0.553000\n",
      "(Iteration 5501 / 30560) loss: 1.359592\n",
      "(Epoch 15 / 80) train acc: 0.578000; val_acc: 0.550000\n",
      "(Iteration 6001 / 30560) loss: 1.279146\n",
      "(Epoch 16 / 80) train acc: 0.611000; val_acc: 0.543000\n",
      "(Epoch 17 / 80) train acc: 0.639000; val_acc: 0.557000\n",
      "(Iteration 6501 / 30560) loss: 1.188565\n",
      "(Epoch 18 / 80) train acc: 0.620000; val_acc: 0.553000\n",
      "(Iteration 7001 / 30560) loss: 1.269405\n",
      "(Epoch 19 / 80) train acc: 0.644000; val_acc: 0.551000\n",
      "(Iteration 7501 / 30560) loss: 1.124438\n",
      "(Epoch 20 / 80) train acc: 0.608000; val_acc: 0.562000\n",
      "(Iteration 8001 / 30560) loss: 1.407469\n",
      "(Epoch 21 / 80) train acc: 0.621000; val_acc: 0.572000\n",
      "(Epoch 22 / 80) train acc: 0.626000; val_acc: 0.563000\n",
      "(Iteration 8501 / 30560) loss: 1.363982\n",
      "(Epoch 23 / 80) train acc: 0.624000; val_acc: 0.574000\n",
      "(Iteration 9001 / 30560) loss: 1.113417\n",
      "(Epoch 24 / 80) train acc: 0.633000; val_acc: 0.573000\n",
      "(Iteration 9501 / 30560) loss: 1.322821\n",
      "(Epoch 25 / 80) train acc: 0.677000; val_acc: 0.568000\n",
      "(Epoch 26 / 80) train acc: 0.654000; val_acc: 0.569000\n",
      "(Iteration 10001 / 30560) loss: 1.149044\n",
      "(Epoch 27 / 80) train acc: 0.651000; val_acc: 0.576000\n",
      "(Iteration 10501 / 30560) loss: 1.044456\n",
      "(Epoch 28 / 80) train acc: 0.668000; val_acc: 0.566000\n",
      "(Iteration 11001 / 30560) loss: 1.034390\n",
      "(Epoch 29 / 80) train acc: 0.665000; val_acc: 0.574000\n",
      "(Epoch 30 / 80) train acc: 0.666000; val_acc: 0.568000\n",
      "(Iteration 11501 / 30560) loss: 1.040554\n",
      "(Epoch 31 / 80) train acc: 0.694000; val_acc: 0.580000\n",
      "(Iteration 12001 / 30560) loss: 1.192154\n",
      "(Epoch 32 / 80) train acc: 0.686000; val_acc: 0.569000\n",
      "(Iteration 12501 / 30560) loss: 0.956604\n",
      "(Epoch 33 / 80) train acc: 0.678000; val_acc: 0.566000\n",
      "(Epoch 34 / 80) train acc: 0.684000; val_acc: 0.578000\n",
      "(Iteration 13001 / 30560) loss: 0.998252\n",
      "(Epoch 35 / 80) train acc: 0.706000; val_acc: 0.583000\n",
      "(Iteration 13501 / 30560) loss: 1.086583\n",
      "(Epoch 36 / 80) train acc: 0.734000; val_acc: 0.570000\n",
      "(Iteration 14001 / 30560) loss: 1.130657\n",
      "(Epoch 37 / 80) train acc: 0.671000; val_acc: 0.578000\n",
      "(Iteration 14501 / 30560) loss: 1.134798\n",
      "(Epoch 38 / 80) train acc: 0.706000; val_acc: 0.568000\n",
      "(Epoch 39 / 80) train acc: 0.704000; val_acc: 0.572000\n",
      "(Iteration 15001 / 30560) loss: 1.198702\n",
      "(Epoch 40 / 80) train acc: 0.705000; val_acc: 0.574000\n",
      "(Iteration 15501 / 30560) loss: 1.116812\n",
      "(Epoch 41 / 80) train acc: 0.703000; val_acc: 0.575000\n",
      "(Iteration 16001 / 30560) loss: 1.053556\n",
      "(Epoch 42 / 80) train acc: 0.714000; val_acc: 0.577000\n",
      "(Epoch 43 / 80) train acc: 0.716000; val_acc: 0.573000\n",
      "(Iteration 16501 / 30560) loss: 1.040390\n",
      "(Epoch 44 / 80) train acc: 0.703000; val_acc: 0.580000\n",
      "(Iteration 17001 / 30560) loss: 1.113395\n",
      "(Epoch 45 / 80) train acc: 0.690000; val_acc: 0.583000\n",
      "(Iteration 17501 / 30560) loss: 1.126627\n",
      "(Epoch 46 / 80) train acc: 0.705000; val_acc: 0.572000\n",
      "(Epoch 47 / 80) train acc: 0.715000; val_acc: 0.574000\n",
      "(Iteration 18001 / 30560) loss: 0.993706\n",
      "(Epoch 48 / 80) train acc: 0.729000; val_acc: 0.571000\n",
      "(Iteration 18501 / 30560) loss: 1.040022\n",
      "(Epoch 49 / 80) train acc: 0.703000; val_acc: 0.580000\n",
      "(Iteration 19001 / 30560) loss: 0.924260\n",
      "(Epoch 50 / 80) train acc: 0.729000; val_acc: 0.570000\n",
      "(Epoch 51 / 80) train acc: 0.730000; val_acc: 0.571000\n",
      "(Iteration 19501 / 30560) loss: 1.016130\n",
      "(Epoch 52 / 80) train acc: 0.704000; val_acc: 0.571000\n",
      "(Iteration 20001 / 30560) loss: 1.177507\n",
      "(Epoch 53 / 80) train acc: 0.710000; val_acc: 0.584000\n",
      "(Iteration 20501 / 30560) loss: 1.052020\n",
      "(Epoch 54 / 80) train acc: 0.719000; val_acc: 0.577000\n",
      "(Iteration 21001 / 30560) loss: 0.985372\n",
      "(Epoch 55 / 80) train acc: 0.732000; val_acc: 0.575000\n",
      "(Epoch 56 / 80) train acc: 0.721000; val_acc: 0.580000\n",
      "(Iteration 21501 / 30560) loss: 1.037725\n",
      "(Epoch 57 / 80) train acc: 0.747000; val_acc: 0.575000\n",
      "(Iteration 22001 / 30560) loss: 1.042876\n",
      "(Epoch 58 / 80) train acc: 0.719000; val_acc: 0.580000\n",
      "(Iteration 22501 / 30560) loss: 1.094961\n",
      "(Epoch 59 / 80) train acc: 0.741000; val_acc: 0.582000\n",
      "(Epoch 60 / 80) train acc: 0.729000; val_acc: 0.580000\n",
      "(Iteration 23001 / 30560) loss: 0.932977\n",
      "(Epoch 61 / 80) train acc: 0.715000; val_acc: 0.578000\n",
      "(Iteration 23501 / 30560) loss: 1.008550\n",
      "(Epoch 62 / 80) train acc: 0.735000; val_acc: 0.582000\n",
      "(Iteration 24001 / 30560) loss: 1.060708\n",
      "(Epoch 63 / 80) train acc: 0.768000; val_acc: 0.585000\n",
      "(Epoch 64 / 80) train acc: 0.734000; val_acc: 0.573000\n",
      "(Iteration 24501 / 30560) loss: 1.079686\n",
      "(Epoch 65 / 80) train acc: 0.706000; val_acc: 0.578000\n",
      "(Iteration 25001 / 30560) loss: 0.879053\n",
      "(Epoch 66 / 80) train acc: 0.735000; val_acc: 0.575000\n",
      "(Iteration 25501 / 30560) loss: 0.883083\n",
      "(Epoch 67 / 80) train acc: 0.735000; val_acc: 0.580000\n",
      "(Epoch 68 / 80) train acc: 0.751000; val_acc: 0.578000\n",
      "(Iteration 26001 / 30560) loss: 1.011257\n",
      "(Epoch 69 / 80) train acc: 0.735000; val_acc: 0.576000\n",
      "(Iteration 26501 / 30560) loss: 0.985786\n",
      "(Epoch 70 / 80) train acc: 0.746000; val_acc: 0.583000\n",
      "(Iteration 27001 / 30560) loss: 1.176993\n",
      "(Epoch 71 / 80) train acc: 0.743000; val_acc: 0.578000\n",
      "(Iteration 27501 / 30560) loss: 1.046472\n",
      "(Epoch 72 / 80) train acc: 0.760000; val_acc: 0.578000\n",
      "(Epoch 73 / 80) train acc: 0.741000; val_acc: 0.579000\n",
      "(Iteration 28001 / 30560) loss: 1.003267\n",
      "(Epoch 74 / 80) train acc: 0.783000; val_acc: 0.581000\n",
      "(Iteration 28501 / 30560) loss: 0.868556\n",
      "(Epoch 75 / 80) train acc: 0.755000; val_acc: 0.580000\n",
      "(Iteration 29001 / 30560) loss: 1.084499\n",
      "(Epoch 76 / 80) train acc: 0.753000; val_acc: 0.574000\n",
      "(Epoch 77 / 80) train acc: 0.736000; val_acc: 0.575000\n",
      "(Iteration 29501 / 30560) loss: 1.053633\n",
      "(Epoch 78 / 80) train acc: 0.761000; val_acc: 0.581000\n",
      "(Iteration 30001 / 30560) loss: 0.993054\n",
      "(Epoch 79 / 80) train acc: 0.748000; val_acc: 0.582000\n",
      "(Iteration 30501 / 30560) loss: 1.069218\n",
      "(Epoch 80 / 80) train acc: 0.729000; val_acc: 0.580000\n",
      "Validation accuracy:  0.608\n"
     ]
    }
   ],
   "source": [
    "# ================================================================ #\n",
    "# YOUR CODE HERE:\n",
    "#   Implement a FC-net that achieves at least 55% validation accuracy\n",
    "#   on CIFAR-10.\n",
    "# ================================================================ #\n",
    "hidden_dims = [600, 600, 600, 600]\n",
    "learning_rate = 2e-3\n",
    "weight_scale = 0.01\n",
    "\n",
    "model = FullyConnectedNet(hidden_dims=hidden_dims, weight_scale=weight_scale, dropout=0.4, use_batchnorm=True, reg=0.0)\n",
    "\n",
    "solver = Solver(model, data,print_every = 500,num_epochs=80, batch_size=128,update_rule='adam',\n",
    "optim_config={'learning_rate': learning_rate,}, lr_decay=0.95, verbose=True)\n",
    "solver.train() \n",
    "\n",
    "y_test_pred = np.argmax(model.loss(data['X_test']), axis=1)\n",
    "y_val_pred = np.argmax(model.loss(data['X_val']), axis=1)\n",
    "print('Validation accuracy: ', np.mean(y_val_pred == data['y_val']))\n",
    "\n",
    "\n",
    "# ================================================================ #\n",
    "# END YOUR CODE HERE\n",
    "# ================================================================ #\n"
   ]
  },
  {
   "cell_type": "code",
   "execution_count": null,
   "metadata": {},
   "outputs": [],
   "source": []
  },
  {
   "cell_type": "code",
   "execution_count": null,
   "metadata": {},
   "outputs": [],
   "source": []
  }
 ],
 "metadata": {
  "kernelspec": {
   "display_name": "Python 3",
   "language": "python",
   "name": "python3"
  },
  "language_info": {
   "codemirror_mode": {
    "name": "ipython",
    "version": 3
   },
   "file_extension": ".py",
   "mimetype": "text/x-python",
   "name": "python",
   "nbconvert_exporter": "python",
   "pygments_lexer": "ipython3",
   "version": "3.7.5"
  }
 },
 "nbformat": 4,
 "nbformat_minor": 2
}
